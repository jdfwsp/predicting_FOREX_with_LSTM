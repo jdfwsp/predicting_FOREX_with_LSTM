{
 "cells": [
  {
   "cell_type": "markdown",
   "id": "e21ea04c-8549-4abc-a363-ead871f4e3a2",
   "metadata": {},
   "source": [
    "# Imports, Data Cleaning, File Management"
   ]
  },
  {
   "cell_type": "code",
   "execution_count": 1,
   "id": "117013ff-f981-40e2-89b4-269395d3ff02",
   "metadata": {},
   "outputs": [],
   "source": [
    "# General Imports\n",
    "import numpy as np\n",
    "import pandas as pd\n",
    "from pathlib import Path\n",
    "from varname import argname2\n",
    "import warnings\n",
    "import matplotlib.pyplot as plt\n",
    "warnings.filterwarnings('ignore')\n",
    "\n",
    "# Time Series\n",
    "import statsmodels.api as sm\n",
    "from statsmodels.tsa.arima_model import ARMA\n",
    "from statsmodels.tsa.arima_model import ARIMA\n",
    "from arch import arch_model\n",
    "\n",
    "# Linear Regression\n",
    "from sklearn.linear_model import LinearRegression\n",
    "from sklearn.metrics import mean_squared_error\n",
    "\n",
    "# LSTM\n",
    "from numpy.random import seed\n",
    "from tensorflow import random\n",
    "from sklearn.preprocessing import MinMaxScaler\n",
    "from tensorflow.keras.models import Sequential\n",
    "from tensorflow.keras.layers import LSTM, Dense, Dropout\n",
    "\n",
    "# SVM\n",
    "\n",
    "%matplotlib inline"
   ]
  },
  {
   "cell_type": "code",
   "execution_count": 2,
   "id": "0660a28d-0ade-42b7-991c-ae763252facc",
   "metadata": {},
   "outputs": [],
   "source": [
    "# Read & Clean Data Function\n",
    "\n",
    "def getCSV(input_file):\n",
    "    df = pd.read_csv(\n",
    "        Path(input_file),\n",
    "        index_col=\"Date\",\n",
    "        infer_datetime_format=True,\n",
    "        parse_dates=True)\n",
    "    df.drop(columns=['Volume'], inplace=True)\n",
    "    df.dropna(inplace=True)\n",
    "    return df"
   ]
  },
  {
   "cell_type": "code",
   "execution_count": null,
   "id": "0ac553a6-c674-4a41-8b5c-d4c6ff41824a",
   "metadata": {},
   "outputs": [],
   "source": []
  },
  {
   "cell_type": "code",
   "execution_count": 3,
   "id": "837789af-182a-4cb1-961d-d6ec42b0a050",
   "metadata": {},
   "outputs": [
    {
     "data": {
      "text/html": [
       "<div>\n",
       "<style scoped>\n",
       "    .dataframe tbody tr th:only-of-type {\n",
       "        vertical-align: middle;\n",
       "    }\n",
       "\n",
       "    .dataframe tbody tr th {\n",
       "        vertical-align: top;\n",
       "    }\n",
       "\n",
       "    .dataframe thead th {\n",
       "        text-align: right;\n",
       "    }\n",
       "</style>\n",
       "<table border=\"1\" class=\"dataframe\">\n",
       "  <thead>\n",
       "    <tr style=\"text-align: right;\">\n",
       "      <th></th>\n",
       "      <th>Open</th>\n",
       "      <th>High</th>\n",
       "      <th>Low</th>\n",
       "      <th>Close</th>\n",
       "      <th>Adj Close</th>\n",
       "    </tr>\n",
       "    <tr>\n",
       "      <th>Date</th>\n",
       "      <th></th>\n",
       "      <th></th>\n",
       "      <th></th>\n",
       "      <th></th>\n",
       "      <th></th>\n",
       "    </tr>\n",
       "  </thead>\n",
       "  <tbody>\n",
       "    <tr>\n",
       "      <th>2006-05-16</th>\n",
       "      <td>0.762835</td>\n",
       "      <td>0.768994</td>\n",
       "      <td>0.760688</td>\n",
       "      <td>0.767106</td>\n",
       "      <td>0.767106</td>\n",
       "    </tr>\n",
       "    <tr>\n",
       "      <th>2006-05-17</th>\n",
       "      <td>0.766871</td>\n",
       "      <td>0.772618</td>\n",
       "      <td>0.757576</td>\n",
       "      <td>0.759417</td>\n",
       "      <td>0.759417</td>\n",
       "    </tr>\n",
       "    <tr>\n",
       "      <th>2006-05-18</th>\n",
       "      <td>0.759417</td>\n",
       "      <td>0.767577</td>\n",
       "      <td>0.758725</td>\n",
       "      <td>0.764000</td>\n",
       "      <td>0.764000</td>\n",
       "    </tr>\n",
       "    <tr>\n",
       "      <th>2006-05-19</th>\n",
       "      <td>0.763884</td>\n",
       "      <td>0.764818</td>\n",
       "      <td>0.753012</td>\n",
       "      <td>0.757174</td>\n",
       "      <td>0.757174</td>\n",
       "    </tr>\n",
       "    <tr>\n",
       "      <th>2006-05-22</th>\n",
       "      <td>0.756888</td>\n",
       "      <td>0.756888</td>\n",
       "      <td>0.747105</td>\n",
       "      <td>0.753409</td>\n",
       "      <td>0.753409</td>\n",
       "    </tr>\n",
       "    <tr>\n",
       "      <th>...</th>\n",
       "      <td>...</td>\n",
       "      <td>...</td>\n",
       "      <td>...</td>\n",
       "      <td>...</td>\n",
       "      <td>...</td>\n",
       "    </tr>\n",
       "    <tr>\n",
       "      <th>2021-07-21</th>\n",
       "      <td>0.733900</td>\n",
       "      <td>0.736030</td>\n",
       "      <td>0.728980</td>\n",
       "      <td>0.733891</td>\n",
       "      <td>0.733891</td>\n",
       "    </tr>\n",
       "    <tr>\n",
       "      <th>2021-07-22</th>\n",
       "      <td>0.735202</td>\n",
       "      <td>0.739700</td>\n",
       "      <td>0.734310</td>\n",
       "      <td>0.735262</td>\n",
       "      <td>0.735262</td>\n",
       "    </tr>\n",
       "    <tr>\n",
       "      <th>2021-07-23</th>\n",
       "      <td>0.738250</td>\n",
       "      <td>0.739200</td>\n",
       "      <td>0.735790</td>\n",
       "      <td>0.738050</td>\n",
       "      <td>0.738050</td>\n",
       "    </tr>\n",
       "    <tr>\n",
       "      <th>2021-07-26</th>\n",
       "      <td>0.736659</td>\n",
       "      <td>0.739098</td>\n",
       "      <td>0.733300</td>\n",
       "      <td>0.736822</td>\n",
       "      <td>0.736822</td>\n",
       "    </tr>\n",
       "    <tr>\n",
       "      <th>2021-07-27</th>\n",
       "      <td>0.738607</td>\n",
       "      <td>0.739000</td>\n",
       "      <td>0.733780</td>\n",
       "      <td>0.738825</td>\n",
       "      <td>0.738825</td>\n",
       "    </tr>\n",
       "  </tbody>\n",
       "</table>\n",
       "<p>3934 rows × 5 columns</p>\n",
       "</div>"
      ],
      "text/plain": [
       "                Open      High       Low     Close  Adj Close\n",
       "Date                                                         \n",
       "2006-05-16  0.762835  0.768994  0.760688  0.767106   0.767106\n",
       "2006-05-17  0.766871  0.772618  0.757576  0.759417   0.759417\n",
       "2006-05-18  0.759417  0.767577  0.758725  0.764000   0.764000\n",
       "2006-05-19  0.763884  0.764818  0.753012  0.757174   0.757174\n",
       "2006-05-22  0.756888  0.756888  0.747105  0.753409   0.753409\n",
       "...              ...       ...       ...       ...        ...\n",
       "2021-07-21  0.733900  0.736030  0.728980  0.733891   0.733891\n",
       "2021-07-22  0.735202  0.739700  0.734310  0.735262   0.735262\n",
       "2021-07-23  0.738250  0.739200  0.735790  0.738050   0.738050\n",
       "2021-07-26  0.736659  0.739098  0.733300  0.736822   0.736822\n",
       "2021-07-27  0.738607  0.739000  0.733780  0.738825   0.738825\n",
       "\n",
       "[3934 rows x 5 columns]"
      ]
     },
     "execution_count": 3,
     "metadata": {},
     "output_type": "execute_result"
    }
   ],
   "source": [
    "getCSV('AUDUSD.csv')"
   ]
  },
  {
   "cell_type": "code",
   "execution_count": 4,
   "id": "006f2e9a-8a65-4fd1-8d8a-e5a6b8e90c5e",
   "metadata": {},
   "outputs": [],
   "source": [
    "file = 'AUDUSD.csv'\n",
    "forex = ['AUDUSD.csv']\n",
    "comm = []\n",
    "stocks = []\n",
    "crypto = []"
   ]
  },
  {
   "cell_type": "markdown",
   "id": "dbb62593-5859-4bdf-9219-d0d4fc53cdf6",
   "metadata": {},
   "source": [
    "# Predictions"
   ]
  },
  {
   "cell_type": "markdown",
   "id": "9fb63e79-7ebf-4c25-84f1-8dc32139e819",
   "metadata": {},
   "source": [
    "## 1 Time Series"
   ]
  },
  {
   "cell_type": "code",
   "execution_count": 5,
   "id": "842c6ce4-bfc5-4970-9c84-e86483d3789f",
   "metadata": {},
   "outputs": [
    {
     "data": {
      "image/png": "[encoded data removed]",
      "text/plain": [
       "<Figure size 432x288 with 1 Axes>"
      ]
     },
     "metadata": {
      "needs_background": "light"
     },
     "output_type": "display_data"
    }
   ],
   "source": [
    "def time_series(file):\n",
    "    df = getCSV(file)\n",
    "    noise, trend = sm.tsa.filters.hpfilter(df['Close'])\n",
    "    df2 = pd.DataFrame(df['Close'])\n",
    "    df2['Noise'] = noise\n",
    "    df2['Trend'] = trend\n",
    "    returns = (df2[['Close']].pct_change() * 100)\n",
    "    returns = returns.replace(-np.inf, np.nan).dropna()\n",
    "    model = ARMA(returns['Close'].values, order=(2, 1))\n",
    "    results = model.fit()\n",
    "    pd.DataFrame(results.forecast(steps = 5)[0]).plot()\n",
    "time_series(file)"
   ]
  },
  {
   "cell_type": "markdown",
   "id": "185aaf02-4510-4452-8670-d8017b1b7ba6",
   "metadata": {},
   "source": [
    "## 2 Linear Regression"
   ]
  },
  {
   "cell_type": "code",
   "execution_count": 6,
   "id": "9bf10c13-66a1-4b5e-9c84-a79aa03070db",
   "metadata": {},
   "outputs": [
    {
     "data": {
      "image/png": "[encoded data removed]",
      "text/plain": [
       "<Figure size 432x288 with 1 Axes>"
      ]
     },
     "metadata": {
      "needs_background": "light"
     },
     "output_type": "display_data"
    }
   ],
   "source": [
    "def linear_regression(file):\n",
    "    df = getCSV(file)\n",
    "    df['Return'] = (df[['Close']].pct_change() * 100)\n",
    "    df = df.replace(-np.inf, np.nan).dropna()\n",
    "    df['Lagged Return'] = df['Return'].shift()\n",
    "    df = df.dropna()\n",
    "    train = df[:'2020']\n",
    "    test = df['2021':]\n",
    "    X_train = train.drop(columns=['Lagged Return', 'Return'])\n",
    "    X_test = test.drop(columns=['Lagged Return', 'Return'])\n",
    "    y_train = train['Return']\n",
    "    y_test = test['Return']\n",
    "    model = LinearRegression()\n",
    "    model.fit(X_train, y_train)\n",
    "    pred_y = model.predict(X_test)\n",
    "    actual = pd.DataFrame({'Actual' : y_test, 'Predicted': pred_y})\n",
    "    actual.head(50).plot()\n",
    "linear_regression(file)"
   ]
  },
  {
   "cell_type": "markdown",
   "id": "8c9d5a5a-6936-46ec-afc0-5e74ef6bc710",
   "metadata": {},
   "source": [
    "## 3 LSTM"
   ]
  },
  {
   "cell_type": "code",
   "execution_count": 7,
   "id": "f0230d3e-0171-42f8-9a94-3076d921ba7f",
   "metadata": {},
   "outputs": [],
   "source": [
    "df = getCSV('AUDUSD.csv')"
   ]
  },
  {
   "cell_type": "code",
   "execution_count": 8,
   "id": "7184d21f-3ee5-4587-873c-33b7643b2cab",
   "metadata": {},
   "outputs": [],
   "source": [
    "# TRY DIFFERENT ACTIVATION FUNCTIONS AND OPTIMIZERS\n",
    "\n",
    "def window_data(df, window, feature_col_number, target_col_number):\n",
    "    \"\"\"\n",
    "    This function accepts the column number for the features (X) and the target (y).\n",
    "    It chunks the data up with a rolling window of Xt - window to predict Xt.\n",
    "    It returns two numpy arrays of X and y.\n",
    "    \"\"\"\n",
    "    X = []\n",
    "    y = []\n",
    "    for i in range(len(df) - window):\n",
    "        features = df.iloc[i : (i + window), feature_col_number]\n",
    "        target = df.iloc[(i + window), target_col_number]\n",
    "        X.append(features)\n",
    "        y.append(target)\n",
    "    return np.array(X), np.array(y).reshape(-1, 1)"
   ]
  },
  {
   "cell_type": "code",
   "execution_count": 9,
   "id": "41fabf8b-8dc1-4b77-be80-7d8e736d292b",
   "metadata": {},
   "outputs": [
    {
     "name": "stdout",
     "output_type": "stream",
     "text": [
      "X sample values:\n",
      "[[0.767106 0.759417 0.764   ]\n",
      " [0.759417 0.764    0.757174]\n",
      " [0.764    0.757174 0.753409]\n",
      " [0.757174 0.753409 0.750976]\n",
      " [0.753409 0.750976 0.753125]] \n",
      "\n",
      "y sample values:\n",
      "[[0.757174]\n",
      " [0.753409]\n",
      " [0.750976]\n",
      " [0.753125]\n",
      " [0.760919]]\n"
     ]
    }
   ],
   "source": [
    "window_size = 3\n",
    "\n",
    "feature_column = 4\n",
    "target_column = 4\n",
    "X, y = window_data(df, 3, 4, 4)\n",
    "print (f\"X sample values:\\n{X[:5]} \\n\")\n",
    "print (f\"y sample values:\\n{y[:5]}\")"
   ]
  },
  {
   "cell_type": "code",
   "execution_count": 10,
   "id": "f3a6946c-e468-45a0-b2c4-d1627d9ba12e",
   "metadata": {},
   "outputs": [],
   "source": [
    "# Use 70% of the data for training and the remainder for testing\n",
    "split = int(0.8 * len(X))\n",
    "X_train = X[: split]\n",
    "X_test = X[split:]\n",
    "y_train = y[: split]\n",
    "y_test = y[split:]"
   ]
  },
  {
   "cell_type": "code",
   "execution_count": 11,
   "id": "d1a7bd83-2b59-47e4-ae3c-e490e42af78c",
   "metadata": {},
   "outputs": [],
   "source": [
    "# Use the MinMaxScaler to scale data between 0 and 1.\n",
    "from sklearn.preprocessing import MinMaxScaler\n",
    "\n",
    "scaler = MinMaxScaler()\n",
    "X_train = scaler.fit_transform(X_train)\n",
    "X_test = scaler.fit_transform(X_test)\n",
    "y_train = scaler.fit_transform(y_train)\n",
    "y_test = scaler.fit_transform(y_test)"
   ]
  },
  {
   "cell_type": "code",
   "execution_count": 12,
   "id": "54ff2e82-3e72-456f-ace3-3c3e71d44a0b",
   "metadata": {},
   "outputs": [
    {
     "name": "stdout",
     "output_type": "stream",
     "text": [
      "X_train sample values:\n",
      "[[[0.04080548]\n",
      "  [0.03886609]\n",
      "  [0.04002205]]\n",
      "\n",
      " [[0.03886609]\n",
      "  [0.04002205]\n",
      "  [0.03830033]]\n",
      "\n",
      " [[0.04002205]\n",
      "  [0.03830033]\n",
      "  [0.03735069]]\n",
      "\n",
      " [[0.03830033]\n",
      "  [0.03735069]\n",
      "  [0.03673701]]\n",
      "\n",
      " [[0.03735069]\n",
      "  [0.03673701]\n",
      "  [0.03727906]]] \n",
      "\n",
      "X_test sample values:\n",
      "[[[0.74331843]\n",
      "  [0.73646117]\n",
      "  [0.73012314]]\n",
      "\n",
      " [[0.73646117]\n",
      "  [0.73012314]\n",
      "  [0.73231191]]\n",
      "\n",
      " [[0.73012314]\n",
      "  [0.73231191]\n",
      "  [0.75889496]]\n",
      "\n",
      " [[0.73231191]\n",
      "  [0.75889496]\n",
      "  [0.74601747]]\n",
      "\n",
      " [[0.75889496]\n",
      "  [0.74601747]\n",
      "  [0.73800092]]]\n"
     ]
    }
   ],
   "source": [
    "# Reshape the features for the model\n",
    "X_train = X_train.reshape((X_train.shape[0], X_train.shape[1], 1))\n",
    "X_test = X_test.reshape((X_test.shape[0], X_test.shape[1], 1))\n",
    "print (f\"X_train sample values:\\n{X_train[:5]} \\n\")\n",
    "print (f\"X_test sample values:\\n{X_test[:5]}\")"
   ]
  },
  {
   "cell_type": "code",
   "execution_count": 13,
   "id": "101c01fb-f07e-4930-85b7-16ccbaa7abf9",
   "metadata": {},
   "outputs": [],
   "source": [
    "# Import required Keras modules\n",
    "from tensorflow.keras.models import Sequential\n",
    "from tensorflow.keras.layers import LSTM, Dense, Dropout"
   ]
  },
  {
   "cell_type": "code",
   "execution_count": 14,
   "id": "a1fe2fc6-d0b1-4000-9e9b-21dfc30d1a5a",
   "metadata": {},
   "outputs": [],
   "source": [
    "# Define the LSTM RNN model.\n",
    "model = Sequential()\n",
    "\n",
    "number_units = 3\n",
    "dropout_fraction = 0.1\n",
    "\n",
    "# Layer 1\n",
    "model.add(LSTM(\n",
    "    units=number_units,\n",
    "    return_sequences=True,\n",
    "    input_shape=(X_train.shape[1], 1))\n",
    "    )\n",
    "model.add(Dropout(dropout_fraction))\n",
    "# Layer 2\n",
    "model.add(LSTM(units=number_units, return_sequences=True))\n",
    "model.add(Dropout(dropout_fraction))\n",
    "# Layer 3\n",
    "model.add(LSTM(units=number_units))\n",
    "model.add(Dropout(dropout_fraction))\n",
    "# Output layer\n",
    "model.add(Dense(1))"
   ]
  },
  {
   "cell_type": "code",
   "execution_count": 15,
   "id": "51fe9e76-8b20-4907-9192-557e3f34a317",
   "metadata": {},
   "outputs": [],
   "source": [
    "# Compile the model\n",
    "model.compile(optimizer=\"adam\", loss=\"mean_squared_error\")"
   ]
  },
  {
   "cell_type": "code",
   "execution_count": 16,
   "id": "cd27fcf3-9a4d-4bd8-9fb9-6e29515ea509",
   "metadata": {},
   "outputs": [
    {
     "name": "stdout",
     "output_type": "stream",
     "text": [
      "Model: \"sequential\"\n",
      "_________________________________________________________________\n",
      "Layer (type)                 Output Shape              Param #   \n",
      "=================================================================\n",
      "lstm (LSTM)                  (None, 3, 3)              60        \n",
      "_________________________________________________________________\n",
      "dropout (Dropout)            (None, 3, 3)              0         \n",
      "_________________________________________________________________\n",
      "lstm_1 (LSTM)                (None, 3, 3)              84        \n",
      "_________________________________________________________________\n",
      "dropout_1 (Dropout)          (None, 3, 3)              0         \n",
      "_________________________________________________________________\n",
      "lstm_2 (LSTM)                (None, 3)                 84        \n",
      "_________________________________________________________________\n",
      "dropout_2 (Dropout)          (None, 3)                 0         \n",
      "_________________________________________________________________\n",
      "dense (Dense)                (None, 1)                 4         \n",
      "=================================================================\n",
      "Total params: 232\n",
      "Trainable params: 232\n",
      "Non-trainable params: 0\n",
      "_________________________________________________________________\n"
     ]
    }
   ],
   "source": [
    "# Summarize the model\n",
    "model.summary()"
   ]
  },
  {
   "cell_type": "code",
   "execution_count": 17,
   "id": "d22a6ad4-c021-4214-b53e-960bb1361f6f",
   "metadata": {},
   "outputs": [
    {
     "name": "stdout",
     "output_type": "stream",
     "text": [
      "Epoch 1/5\n",
      "3144/3144 [==============================] - 6s 2ms/step - loss: 3.4542e-04\n",
      "Epoch 2/5\n",
      "3144/3144 [==============================] - 5s 2ms/step - loss: 3.3482e-04\n",
      "Epoch 3/5\n",
      "3144/3144 [==============================] - 5s 2ms/step - loss: 3.3737e-04\n",
      "Epoch 4/5\n",
      "3144/3144 [==============================] - 5s 1ms/step - loss: 3.3863e-04\n",
      "Epoch 5/5\n",
      "3144/3144 [==============================] - 5s 1ms/step - loss: 3.3895e-04\n"
     ]
    },
    {
     "data": {
      "text/plain": [
       "<tensorflow.python.keras.callbacks.History at 0x7f31513ddb20>"
      ]
     },
     "execution_count": 17,
     "metadata": {},
     "output_type": "execute_result"
    }
   ],
   "source": [
    "# Train the model\n",
    "model.fit(X_train, y_train, epochs=5, shuffle=False, batch_size=1, verbose=1)"
   ]
  },
  {
   "cell_type": "code",
   "execution_count": 18,
   "id": "f7fa4095-9964-4d07-bec7-67d2cacfcd40",
   "metadata": {},
   "outputs": [
    {
     "name": "stdout",
     "output_type": "stream",
     "text": [
      "25/25 [==============================] - 1s 983us/step - loss: 0.3708\n"
     ]
    },
    {
     "data": {
      "text/plain": [
       "0.3708333969116211"
      ]
     },
     "execution_count": 18,
     "metadata": {},
     "output_type": "execute_result"
    }
   ],
   "source": [
    "# Evaluate the model\n",
    "model.evaluate(X_test, y_test)"
   ]
  },
  {
   "cell_type": "code",
   "execution_count": 19,
   "id": "e4e59de1-211a-4254-af62-f090df73ee07",
   "metadata": {},
   "outputs": [],
   "source": [
    "# Make some predictions\n",
    "predicted = model.predict(X_test)"
   ]
  },
  {
   "cell_type": "code",
   "execution_count": 20,
   "id": "970f9404-71eb-459b-a549-c88018b00ee1",
   "metadata": {},
   "outputs": [],
   "source": [
    "# Recover the original prices instead of the scaled version\n",
    "predicted_prices = scaler.inverse_transform(predicted)\n",
    "real_prices = scaler.inverse_transform(y_test.reshape(-1, 1))"
   ]
  },
  {
   "cell_type": "code",
   "execution_count": 21,
   "id": "43d07370-9bad-4f01-bc0b-6f69d9dae98a",
   "metadata": {},
   "outputs": [
    {
     "data": {
      "text/html": [
       "<div>\n",
       "<style scoped>\n",
       "    .dataframe tbody tr th:only-of-type {\n",
       "        vertical-align: middle;\n",
       "    }\n",
       "\n",
       "    .dataframe tbody tr th {\n",
       "        vertical-align: top;\n",
       "    }\n",
       "\n",
       "    .dataframe thead th {\n",
       "        text-align: right;\n",
       "    }\n",
       "</style>\n",
       "<table border=\"1\" class=\"dataframe\">\n",
       "  <thead>\n",
       "    <tr style=\"text-align: right;\">\n",
       "      <th></th>\n",
       "      <th>Real</th>\n",
       "      <th>Predicted</th>\n",
       "    </tr>\n",
       "    <tr>\n",
       "      <th>Date</th>\n",
       "      <th></th>\n",
       "      <th></th>\n",
       "    </tr>\n",
       "  </thead>\n",
       "  <tbody>\n",
       "    <tr>\n",
       "      <th>2018-06-22</th>\n",
       "      <td>0.737898</td>\n",
       "      <td>0.582722</td>\n",
       "    </tr>\n",
       "    <tr>\n",
       "      <th>2018-06-25</th>\n",
       "      <td>0.743837</td>\n",
       "      <td>0.582722</td>\n",
       "    </tr>\n",
       "    <tr>\n",
       "      <th>2018-06-26</th>\n",
       "      <td>0.740960</td>\n",
       "      <td>0.582722</td>\n",
       "    </tr>\n",
       "    <tr>\n",
       "      <th>2018-06-27</th>\n",
       "      <td>0.739169</td>\n",
       "      <td>0.582722</td>\n",
       "    </tr>\n",
       "    <tr>\n",
       "      <th>2018-06-28</th>\n",
       "      <td>0.734322</td>\n",
       "      <td>0.582722</td>\n",
       "    </tr>\n",
       "  </tbody>\n",
       "</table>\n",
       "</div>"
      ],
      "text/plain": [
       "                Real  Predicted\n",
       "Date                           \n",
       "2018-06-22  0.737898   0.582722\n",
       "2018-06-25  0.743837   0.582722\n",
       "2018-06-26  0.740960   0.582722\n",
       "2018-06-27  0.739169   0.582722\n",
       "2018-06-28  0.734322   0.582722"
      ]
     },
     "execution_count": 21,
     "metadata": {},
     "output_type": "execute_result"
    }
   ],
   "source": [
    "# Create a DataFrame of Real and Predicted values\n",
    "forex = pd.DataFrame({\n",
    "    \"Real\": real_prices.ravel(),\n",
    "    \"Predicted\": predicted_prices.ravel()\n",
    "    }, index = df.index[-len(real_prices): ])\n",
    "forex.head()"
   ]
  },
  {
   "cell_type": "code",
   "execution_count": 22,
   "id": "cb8ce91d-d1bf-46da-a048-0f704853660c",
   "metadata": {},
   "outputs": [
    {
     "data": {
      "text/plain": [
       "<AxesSubplot:xlabel='Date'>"
      ]
     },
     "execution_count": 22,
     "metadata": {},
     "output_type": "execute_result"
    },
    {
     "data": {
      "image/png": "[encoded data removed]",
      "text/plain": [
       "<Figure size 432x288 with 1 Axes>"
      ]
     },
     "metadata": {
      "needs_background": "light"
     },
     "output_type": "display_data"
    }
   ],
   "source": [
    "forex.plot()"
   ]
  },
  {
   "cell_type": "code",
   "execution_count": null,
   "id": "68c78f1c-b601-4265-97e3-b148233fd143",
   "metadata": {},
   "outputs": [],
   "source": []
  },
  {
   "cell_type": "code",
   "execution_count": null,
   "id": "d683be73-b4ba-424a-aa5e-b8d7250020ea",
   "metadata": {},
   "outputs": [],
   "source": []
  },
  {
   "cell_type": "markdown",
   "id": "7a5f2d50-112a-42ec-bada-b305a0b5bdee",
   "metadata": {},
   "source": [
    "## 4 SVM"
   ]
  },
  {
   "cell_type": "code",
   "execution_count": 23,
   "id": "3978218e-6c51-49e1-8ab2-ff91a37f21e1",
   "metadata": {},
   "outputs": [],
   "source": [
    "from sklearn.preprocessing import MaxAbsScaler\n",
    "from sklearn.model_selection import train_test_split\n",
    "from sklearn.metrics import accuracy_score, precision_score, recall_score\n",
    "from sklearn.svm import SVC"
   ]
  },
  {
   "cell_type": "code",
   "execution_count": 24,
   "id": "403aa8c4-fa3d-46db-a484-b6ca6ada6623",
   "metadata": {},
   "outputs": [],
   "source": [
    "import matplotlib.pyplot as plt\n",
    "from matplotlib.dates import DateFormatter\n",
    "import matplotlib.ticker as ticker"
   ]
  },
  {
   "cell_type": "code",
   "execution_count": 25,
   "id": "71e7f890-507a-426a-aeaa-e35ed16c8d89",
   "metadata": {},
   "outputs": [],
   "source": [
    "def getSVM(file):\n",
    "    df = getCSV(file)\n",
    "    df['Return'] = (df[['Close']].pct_change() * 100)\n",
    "    df = df.dropna()\n",
    "    signals = []\n",
    "    for i in df['Return']:\n",
    "        if (i >= 0):\n",
    "            signals.append(1)\n",
    "        else:\n",
    "            signals.append(0)\n",
    "    df['Signal'] = signals\n",
    "    \n",
    "    X = df.drop(columns=['Return', 'Signal'])\n",
    "    y = df['Signal']\n",
    "    \n",
    "    X_train, X_test, y_train, y_test = train_test_split(X, y, test_size=0.1)\n",
    "    \n",
    "    model = SVC(kernel='poly')\n",
    "    \n",
    "    model.fit(X_train, y_train)\n",
    "    pred_y = model.predict(X_test)\n",
    "    actual = pd.DataFrame({'Actual': y_test, 'Predicted': pred_y})\n",
    "#     X_train = train.drop(columns=['Lagged Return', 'Return'])\n",
    "#     X_test = test.drop(columns=['Lagged Return', 'Return'])\n",
    "#     y_train = train['Return']\n",
    "#     y_test = test['Return']\n",
    "#     model = LinearRegression()\n",
    "#     model.fit(X_train, y_train)\n",
    "#     pred_y = model.predict(X_test)\n",
    "#     actual = pd.DataFrame({'Actual' : y_test, 'Predicted': pred_y})\n",
    "#     actual.head(50).plot()\n",
    "    return actual\n",
    "aud = getSVM('AUDUSD.csv')"
   ]
  },
  {
   "cell_type": "code",
   "execution_count": 26,
   "id": "ec3713cf-4600-4ba9-97cf-386d60f9a4b0",
   "metadata": {},
   "outputs": [
    {
     "data": {
      "text/plain": [
       "<AxesSubplot:xlabel='Date'>"
      ]
     },
     "execution_count": 26,
     "metadata": {},
     "output_type": "execute_result"
    },
    {
     "data": {
      "image/png": "[encoded data removed]",
      "text/plain": [
       "<Figure size 432x288 with 1 Axes>"
      ]
     },
     "metadata": {
      "needs_background": "light"
     },
     "output_type": "display_data"
    }
   ],
   "source": [
    "aud.head(100).plot()"
   ]
  },
  {
   "cell_type": "code",
   "execution_count": null,
   "id": "7e054904-939b-4a38-b7e4-b191b814ef76",
   "metadata": {},
   "outputs": [],
   "source": []
  },
  {
   "cell_type": "code",
   "execution_count": null,
   "id": "9d169259-ca1c-4ae2-bd69-68ea57202b7b",
   "metadata": {},
   "outputs": [],
   "source": []
  },
  {
   "cell_type": "code",
   "execution_count": null,
   "id": "a684dbc0-8c63-42fe-83b6-c91b38f8a072",
   "metadata": {},
   "outputs": [],
   "source": []
  },
  {
   "cell_type": "code",
   "execution_count": null,
   "id": "92d46402-c2f6-4ddb-8327-ea2f6a9b89c0",
   "metadata": {},
   "outputs": [],
   "source": []
  },
  {
   "cell_type": "code",
   "execution_count": null,
   "id": "041954e1-775a-4ff2-89e5-9a26e840b3f5",
   "metadata": {},
   "outputs": [],
   "source": []
  },
  {
   "cell_type": "markdown",
   "id": "578a90e5-ef4e-43dd-b860-336722ef155d",
   "metadata": {},
   "source": [
    "# Exporting"
   ]
  },
  {
   "cell_type": "code",
   "execution_count": 27,
   "id": "737efb7c-1836-4015-99c4-4a8d63932b34",
   "metadata": {},
   "outputs": [],
   "source": [
    "# df.to_csv()"
   ]
  },
  {
   "cell_type": "code",
   "execution_count": null,
   "id": "05147f96-b569-4267-8403-edc28e0095f4",
   "metadata": {},
   "outputs": [],
   "source": []
  },
  {
   "cell_type": "code",
   "execution_count": null,
   "id": "255051f1-46d5-4f9b-954a-0d9bf2742074",
   "metadata": {},
   "outputs": [],
   "source": []
  }
 ],
 "metadata": {
  "kernelspec": {
   "display_name": "Python 3",
   "language": "python",
   "name": "python3"
  },
  "language_info": {
   "codemirror_mode": {
    "name": "ipython",
    "version": 3
   },
   "file_extension": ".py",
   "mimetype": "text/x-python",
   "name": "python",
   "nbconvert_exporter": "python",
   "pygments_lexer": "ipython3",
   "version": "3.9.5"
  }
 },
 "nbformat": 4,
 "nbformat_minor": 5
}
